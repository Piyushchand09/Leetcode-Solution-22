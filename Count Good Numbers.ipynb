{
 "cells": [
  {
   "cell_type": "code",
   "execution_count": null,
   "id": "70e4174f",
   "metadata": {
    "vscode": {
     "languageId": "plaintext"
    }
   },
   "outputs": [],
   "source": [
    "# Count Good Numbers\n",
    "class Solution:\n",
    "    def countGoodNumbers(self, n: int) -> int:\n",
    "        MOD = 10**9 + 7\n",
    "\n",
    "        def mod_pow(base, exp, mod):\n",
    "            result = 1\n",
    "            while exp > 0:\n",
    "                if exp % 2 == 1:\n",
    "                    result = (result * base) % mod\n",
    "                base = (base * base) % mod\n",
    "                exp //= 2\n",
    "            return result\n",
    "\n",
    "        even_count = (n + 1) // 2\n",
    "        odd_count = n // 2\n",
    "\n",
    "        return (mod_pow(5, even_count, MOD) * mod_pow(4, odd_count,MOD)) % MOD\n",
    "        "
   ]
  }
 ],
 "metadata": {
  "kernelspec": {
   "display_name": "Python 3 (ipykernel)",
   "language": "python",
   "name": "python3"
  },
  "language_info": {
   "codemirror_mode": {
    "name": "ipython",
    "version": 3
   },
   "file_extension": ".py",
   "mimetype": "text/x-python",
   "name": "python",
   "nbconvert_exporter": "python",
   "pygments_lexer": "ipython3",
   "version": "3.12.4"
  }
 },
 "nbformat": 4,
 "nbformat_minor": 5
}
